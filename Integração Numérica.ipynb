{
 "cells": [
  {
   "cell_type": "code",
   "execution_count": 13,
   "metadata": {},
   "outputs": [],
   "source": [
    "import numpy as np\n",
    "from matplotlib import pyplot as plt"
   ]
  },
  {
   "cell_type": "markdown",
   "metadata": {},
   "source": [
    "# Integração Numérica\n",
    "\n",
    "Formas inteligêntes de realizar integração numericamente e noção básica sobre limites de precisão."
   ]
  },
  {
   "cell_type": "markdown",
   "metadata": {},
   "source": [
    "# 1 - Método dos trapézios\n",
    "\n",
    "A imagem clássica da integração numérica é utilizar um grande número de retângulos cujas alturas são iguais aos valores da função num ponto, isto é ok, mas gera erros da ordem de $h$ (o tamanho da base de cada retângulo).\n",
    "\n",
    "Um meio melhor seria utilizar trapézios ao invés de retângulos, o que gera erros de ordem $h^2$."
   ]
  },
  {
   "cell_type": "code",
   "execution_count": 2,
   "metadata": {},
   "outputs": [],
   "source": [
    "def I_trap(y,a,b,n):\n",
    "    # com n intervalos, h é o tamanho da base de cada trapézio\n",
    "    h = (b-a)/n\n",
    "    x = np.arange(a,b,h)\n",
    "    I=0\n",
    "    for i in range (len(x)-1):\n",
    "        I = I + h*(y(x[i])+y(x[i+1]))/2\n",
    "        \n",
    "    return I"
   ]
  },
  {
   "cell_type": "markdown",
   "metadata": {},
   "source": [
    "Para testar, vamos integrar a função $6-6x^5$, cuja solução analítica é fácil de calcular ($6x-x^6$)."
   ]
  },
  {
   "cell_type": "code",
   "execution_count": 3,
   "metadata": {},
   "outputs": [
    {
     "data": {
      "text/plain": [
       "4.998279706496999"
      ]
     },
     "execution_count": 3,
     "metadata": {},
     "output_type": "execute_result"
    }
   ],
   "source": [
    "def y(x):\n",
    "    return 6-6*x**5\n",
    "\n",
    "# integrando de 0 à 1 devemos ter como resultado 5.\n",
    "\n",
    "I_trap(y, 0, 1, 100)"
   ]
  },
  {
   "cell_type": "markdown",
   "metadata": {},
   "source": [
    "Outro exemplo de aplicação, agora mais complicado, é o do período de um pêndulo.\n",
    "\n",
    "Pela aproximação de Galileu (para oscilações pequenas) o período de um pêndulo de comprimento $l$ sujeito à uma aceleração $g$ é: $T_g = 2\\pi \\sqrt{\\frac{l}{g}}$"
   ]
  },
  {
   "cell_type": "code",
   "execution_count": 4,
   "metadata": {
    "scrolled": true
   },
   "outputs": [
    {
     "name": "stdout",
     "output_type": "stream",
     "text": [
      "1.9869176531592203\n"
     ]
    }
   ],
   "source": [
    "pi = np.math.pi\n",
    "g = 10\n",
    "l = 1\n",
    "\n",
    "# Período galileano em segundos (Ângulo inicial pequeno)\n",
    "Tgal = 2*pi*np.sqrt(l/g)\n",
    "print(Tgal)"
   ]
  },
  {
   "cell_type": "markdown",
   "metadata": {},
   "source": [
    "Se quisermos saber o período de um pêndulo sem nos limitar apenas à pequenas oscilações, precisamos realizar a seguinte integral meio complicada:\n",
    "\n",
    "$T(\\theta_0) = 4\\sqrt{\\frac{l}{g}}\\int_{0}^{\\pi/2}\\frac{dt}{\\sqrt{1-(sin(t) sin(\\theta_0))^2}}$"
   ]
  },
  {
   "cell_type": "code",
   "execution_count": 5,
   "metadata": {
    "scrolled": true
   },
   "outputs": [
    {
     "name": "stdout",
     "output_type": "stream",
     "text": [
      "theta_0  -  T\n",
      "0.0 1.9859241943325612\n",
      "0.04759988869075444 1.986205315522315\n",
      "0.09519977738150888 1.9870491169038598\n",
      "0.14279966607226333 1.9884569138661607\n",
      "0.19039955476301776 1.9904309052467073\n",
      "0.2379994434537722 1.9929741831801167\n",
      "0.28559933214452665 1.9960907470162446\n",
      "0.3331992208352811 1.9997855214405516\n",
      "0.3807991095260355 2.004064378971105\n",
      "0.42839899821678995 2.0089341670511724\n",
      "0.4759988869075444 2.014402740004686\n",
      "0.5235987755982988 2.0204789961749117\n",
      "0.5711986642890533 2.027172920625169\n",
      "0.6187985529798077 2.034495633846045\n",
      "0.6663984416705622 2.042459446987332\n",
      "0.7139983303613165 2.0510779242164268\n",
      "0.761598219052071 2.060365952900308\n",
      "0.8091981077428255 2.070339822417873\n",
      "0.8567979964335799 2.0810173125352955\n",
      "0.9043978851243344 2.092417792423803\n",
      "0.9519977738150888 2.104562331569272\n",
      "0.9995976625058433 2.117473824022786\n",
      "1.0471975511965976 2.1311771276749774\n",
      "1.0947974398873521 2.14569922051371\n",
      "1.1423973285781066 2.161069376151483\n",
      "1.189997217268861 2.1773193612986472\n",
      "1.2375971059596154 2.1944836583238847\n",
      "1.2851969946503699 2.2125997166019933\n",
      "1.3327968833411243 2.2317082370228496\n",
      "1.3803967720318788 2.251853494851871\n",
      "1.427996660722633 2.27308370712639\n",
      "1.4755965494133876 2.295451451989527\n",
      "1.523196438104142 2.3190141488607394\n",
      "1.5707963267948966 2.343834610196065\n",
      "1.618396215485651 2.3699816778995904\n",
      "1.6659961041764053 2.3975309603396657\n",
      "1.7135959928671598 2.4265656895722167\n",
      "1.7611958815579143 2.4571777230079523\n",
      "1.8087957702486688 2.4894687196924425\n",
      "1.856395658939423 2.5235515290210446\n",
      "1.9039955476301775 2.559551839668407\n",
      "1.951595436320932 2.5976101495867647\n",
      "1.9991953250116865 2.63788413526235\n",
      "2.046795213702441 2.6805515216435682\n",
      "2.0943951023931953 2.7258135856227335\n",
      "2.14199499108395 2.7738994691106083\n",
      "2.1895948797747042 2.825071537719076\n",
      "2.2371947684654585 2.879632105616922\n",
      "2.284794657156213 2.9379319681962515\n",
      "2.3323945458469675 3.000381360555953\n",
      "2.379994434537722 3.067464221631065\n",
      "2.4275943232284765 3.139757040687597\n",
      "2.4751942119192307 3.217954178719267\n",
      "2.5227941006099854 3.3029025380524386\n",
      "2.5703939893007397 3.3956500621904104\n",
      "2.617993877991494 3.4975152767067565\n",
      "2.6655937666822487 3.6101898927028717\n",
      "2.713193655373003 3.7358953645233495\n",
      "2.7607935440637577 3.8776315369048735\n",
      "2.808393432754512 4.039591231622604\n",
      "2.855993321445266 4.227894564259584\n",
      "2.903593210136021 4.451994042756853\n",
      "2.951193098826775 4.727654254646609\n",
      "2.99879298751753 5.0842545563549955\n",
      "3.046392876208284 5.587158255642312\n",
      "3.0939927648990384 6.440991389514628\n",
      "3.141592653589793 10.017694068444758\n",
      "3.1891925422805474 6.440991389514869\n",
      "3.236792430971302 5.587158255642312\n",
      "3.2843923196620564 5.0842545563549955\n",
      "3.3319922083528106 4.727654254646609\n",
      "3.3795920970435653 4.451994042756853\n",
      "3.4271919857343196 4.227894564259587\n",
      "3.4747918744250743 4.039591231622604\n",
      "3.5223917631158286 3.8776315369048735\n",
      "3.569991651806583 3.7358953645233495\n",
      "3.6175915404973376 3.6101898927028717\n",
      "3.665191429188092 3.497515276706758\n",
      "3.712791317878846 3.3956500621904104\n",
      "3.760391206569601 3.3029025380524386\n",
      "3.807991095260355 3.2179541787192685\n",
      "3.8555909839511098 3.139757040687597\n",
      "3.903190872641864 3.0674642216310652\n",
      "3.9507907613326183 3.0003813605559535\n",
      "3.998390650023373 2.937931968196252\n",
      "4.045990538714127 2.8796321056169227\n",
      "4.093590427404882 2.825071537719076\n",
      "4.141190316095636 2.7738994691106096\n",
      "4.1887902047863905 2.725813585622734\n",
      "4.236390093477145 2.6805515216435682\n",
      "4.2839899821679 2.63788413526235\n",
      "4.331589870858654 2.597610149586765\n",
      "4.3791897595494085 2.559551839668407\n",
      "4.426789648240163 2.523551529021045\n",
      "4.474389536930917 2.4894687196924425\n",
      "4.521989425621672 2.4571777230079532\n",
      "4.569589314312426 2.4265656895722167\n",
      "4.61718920300318 2.3975309603396657\n",
      "4.664789091693935 2.3699816778995912\n",
      "4.71238898038469 2.343834610196065\n"
     ]
    }
   ],
   "source": [
    "# função do pêndulo a ser integrada\n",
    "def pend(x):\n",
    "    return 1/np.sqrt(1-((np.sin(x))*k)**2)\n",
    "\n",
    "# cálculo do período do pêndulo (2000 intervalos na integração)\n",
    "def T(theta_0):\n",
    "    return 4*np.sqrt(l/g)*I_trap(pend, 0, pi/2, 2000)\n",
    "\n",
    "\n",
    "# Vamos testar vários valores de ângulo inicial\n",
    "th0 = np.linspace(0,3*pi/2, 100)\n",
    "t = np.zeros(len(th0))\n",
    "\n",
    "print('theta_0  -  T')\n",
    "for i in range (len(th0)):\n",
    "    k = np.sin(th0[i]/2)\n",
    "    t[i] = T(th0)\n",
    "    print(th0[i],t[i])    "
   ]
  },
  {
   "cell_type": "markdown",
   "metadata": {},
   "source": [
    "Agora plotamos a razão entre o período real e o período de Galileu para vários valores de ângulo inicial para comparar:"
   ]
  },
  {
   "cell_type": "code",
   "execution_count": 7,
   "metadata": {},
   "outputs": [
    {
     "data": {
      "text/plain": [
       "<matplotlib.lines.Line2D at 0x17ef0e60788>"
      ]
     },
     "execution_count": 7,
     "metadata": {},
     "output_type": "execute_result"
    },
    {
     "data": {
      "image/png": "[encoded data removed]",
      "text/plain": [
       "<Figure size 432x288 with 1 Axes>"
      ]
     },
     "metadata": {
      "needs_background": "light"
     },
     "output_type": "display_data"
    }
   ],
   "source": [
    "# plot do período com theta entre 0 e 3*pi/2\n",
    "\n",
    "plt.plot(th0, t/Tgal)\n",
    "plt.xlabel(\"$\\Theta_{0}$\",fontsize=18)\n",
    "plt.ylabel(\"T($\\Theta_{0}$) / $T_g$\",fontsize=18)\n",
    "plt.axhline(y=1,ls=':',c='k')\n",
    "plt.axvline(x=pi,ls=':',c='k')"
   ]
  },
  {
   "cell_type": "markdown",
   "metadata": {},
   "source": [
    "# 2 - Método de Simpson\n",
    "\n",
    "Similar ao método dos trapézios, exceto que agora nós usamos seções de parábolas para modelar a corva que queremos integrar. Assim nos rende um erro da ordem de $h^3$."
   ]
  },
  {
   "cell_type": "code",
   "execution_count": 8,
   "metadata": {},
   "outputs": [
    {
     "data": {
      "text/plain": [
       "4.99999998"
      ]
     },
     "execution_count": 8,
     "metadata": {},
     "output_type": "execute_result"
    }
   ],
   "source": [
    "def I_simp(y,a,b,n):\n",
    "    h = (b-a)/n\n",
    "    x = np.arange(a,b,h)\n",
    "    n = len(x)\n",
    "    I = h*(y(a)+y(b))/3\n",
    "    for i in range (1,n,2):\n",
    "        I = I + 4*h*y(x[i])/3\n",
    "    for i in range (2,n,2):\n",
    "        I = I + 2*h*y(x[i])/3\n",
    "    \n",
    "    return I   \n",
    "\n",
    "# testando naquela função do começo (tem que dar 5)\n",
    "I_simp(y,0,1,100)"
   ]
  },
  {
   "cell_type": "markdown",
   "metadata": {},
   "source": [
    "Agora vamos comparar os limites de precisão da integração numérica devido o fato de estarmos trabalhando num sistema que guarda os números na memória com precisão simples (32 bits) ou precisão dupla (64 bits, o padrão para python 3),"
   ]
  },
  {
   "cell_type": "code",
   "execution_count": 10,
   "metadata": {},
   "outputs": [
    {
     "name": "stdout",
     "output_type": "stream",
     "text": [
      "4.9999999741557986 - 4.99999998\n"
     ]
    }
   ],
   "source": [
    "# integral em função do numero de intervalos e com precisão simples\n",
    "def I_simpl(y,a,b,n):\n",
    "    # tamanho do intervalo\n",
    "    h = np.float32((b-a)/n)\n",
    "    x = np.arange(a,b,h)\n",
    "    #valores iniciais e finais\n",
    "    I = h*(np.float32(y(a))+np.float32(y(b)))/3\n",
    "    #somando os pares\n",
    "    for i in range (1,n,2):\n",
    "        I = I + 4*np.float32(h*np.float32(y(x[i]))/3)\n",
    "    #somando os ímpares\n",
    "    for i in range (2,n,2):\n",
    "        I = I + 2*np.float32(h*np.float32(y(x[i]))/3)\n",
    "    \n",
    "    return I   \n",
    "\n",
    "\n",
    "# integral em função do numero de intervalos e com precisão dupla\n",
    "def I_simpd(y,a,b,n):\n",
    "    h = (b-a)/n\n",
    "    x = np.arange(a,b,h)\n",
    "    I = h*(y(a)+y(b))/3\n",
    "    for i in range (1,n,2):\n",
    "        I = I + 4*h*y(x[i])/3\n",
    "    for i in range (2,n,2):\n",
    "        I = I + 2*h*y(x[i])/3\n",
    "    \n",
    "    return I   \n",
    "\n",
    "print(I_simpl(y,0,1,100), '-', I_simpd(y,0,1,100))"
   ]
  },
  {
   "cell_type": "code",
   "execution_count": 12,
   "metadata": {
    "scrolled": true
   },
   "outputs": [
    {
     "name": "stdout",
     "output_type": "stream",
     "text": [
      "p - N - I - erro\n"
     ]
    }
   ],
   "source": [
    "'DEMORA MUITO, NÃO RODAR MAIS!!!'\n",
    "\n",
    "# tabela para erro em precisão simples\n",
    "Int = np.zeros(25)\n",
    "err = np.zeros(25)\n",
    "\n",
    "# tabela para erro em precisão dupla\n",
    "Intd = np.zeros(25)\n",
    "errd = np.zeros(25)\n",
    "\n",
    "# ordem - nª intervalos (2^p) - valor da integral - erro absoluto\n",
    "print('p - N - I - erro')\n",
    "for p in range (1, 26,1):\n",
    "    Int[p-1] = I_simpl(y,0,1,2**p)\n",
    "    err[p-1] = np.abs(I_simpl(y,0,1,2**p)-5)\n",
    "    #print('\\n', p, 2**p,Int[p-1],err[p-1])\n",
    "    \n",
    "    Intd[p-1] = I_simpd(y,0,1,2**p)\n",
    "    errd[p-1] = np.abs(I_simpd(y,0,1,2**p)-5)"
   ]
  },
  {
   "cell_type": "code",
   "execution_count": 14,
   "metadata": {
    "scrolled": true
   },
   "outputs": [
    {
     "data": {
      "text/plain": [
       "Text(0, 0.5, '$log(e)$')"
      ]
     },
     "execution_count": 14,
     "metadata": {},
     "output_type": "execute_result"
    },
    {
     "data": {
      "image/png": "[encoded data removed]",
      "text/plain": [
       "<Figure size 432x288 with 1 Axes>"
      ]
     },
     "metadata": {
      "needs_background": "light"
     },
     "output_type": "display_data"
    }
   ],
   "source": [
    "p = np.arange(1, 26, 1)\n",
    "plt.plot(p,np.log(err), c='b')\n",
    "plt.plot(p,np.log(errd), c='r')\n",
    "plt.xlabel('Presição $2^n$')\n",
    "plt.ylabel('$log(e)$')"
   ]
  },
  {
   "cell_type": "markdown",
   "metadata": {},
   "source": [
    "Deste gráfico dá pra perceber que a partir de uma determinada precisão, por volta de $n\\approx3^{7}$, os erros de arredondamento de números de precisão simples se tornam significativos e aumentar o número de intervalos de integração não contribui em nada para melhorar a estimativa do método numérico. No caso da precisão dupla os erros começam a se tornar significativos por volta de $n\\approx2^{14}$."
   ]
  },
  {
   "cell_type": "markdown",
   "metadata": {},
   "source": [
    "# 3 - Método de Monte-Carlo\n",
    "\n",
    "Agora um outro método de integração completamente diferente é usar números aleatórios para realizar o cálculo pra nós!\n",
    "\n",
    "A função abaixo produz uma sequência de números pseudo-aleatórios entre 0 e 1, a partir de uma dada seed:"
   ]
  },
  {
   "cell_type": "code",
   "execution_count": 16,
   "metadata": {},
   "outputs": [
    {
     "data": {
      "text/plain": [
       "0.07236794804798809"
      ]
     },
     "execution_count": 16,
     "metadata": {},
     "output_type": "execute_result"
    }
   ],
   "source": [
    "# função pseudo-aleatória uniforme de 0 a 1\n",
    "def rand(seed):\n",
    "    a = 16807\n",
    "    m = 2147483647\n",
    "    seed=np.mod(a*seed,m)\n",
    "    return seed/m\n",
    "\n",
    "rand(9336688)"
   ]
  },
  {
   "cell_type": "markdown",
   "metadata": {},
   "source": [
    "Para verificar que essa sequência realmente produz números com uma distribuição aleatória, vamos produzir vários deles e ver com quê frequência eles caem em determinados intervalos. Se a distribuição for realmente aleatória esperamos que eles sejam uniformemente distribuídos nos cinco intervalos, o que significa que cada intervalo deverá conter por volta de $20\\%$ dos valores produzidos."
   ]
  },
  {
   "cell_type": "code",
   "execution_count": 17,
   "metadata": {},
   "outputs": [
    {
     "name": "stdout",
     "output_type": "stream",
     "text": [
      "0.19 0.21 0.24 0.24 0.12\n"
     ]
    },
    {
     "data": {
      "image/png": "[encoded data removed]",
      "text/plain": [
       "<Figure size 432x288 with 1 Axes>"
      ]
     },
     "metadata": {
      "needs_background": "light"
     },
     "output_type": "display_data"
    }
   ],
   "source": [
    "f = 100\n",
    "r = np.zeros(f)\n",
    "seed = 9336688\n",
    "\n",
    "unif=np.zeros(5)\n",
    "\n",
    "for i in range (0,f,1):\n",
    "    r[i] = rand(seed)\n",
    "    if r[i] < 0.2:\n",
    "        unif[0]=unif[0]+1\n",
    "    else:\n",
    "        if r[i] <= 0.4:\n",
    "            unif[1] = unif[1]+1\n",
    "        else:\n",
    "            if 0.4 < r[i] < 0.6:\n",
    "                unif[2] = unif[2]+1\n",
    "            else:\n",
    "                if 0.6 <= r[i] <0.8:\n",
    "                    unif[3] = unif[3]+1\n",
    "                else:\n",
    "                    unif[4] = unif[4]+1\n",
    "    \n",
    "    seed = rand(seed)*10**8\n",
    "\n",
    "# plota a distribuição e printa as frequências\n",
    "pl.plot(r)\n",
    "print(unif[0]/f,unif[1]/f,unif[2]/f,unif[3]/f,unif[4]/f)"
   ]
  },
  {
   "cell_type": "markdown",
   "metadata": {},
   "source": [
    "Um exercício clássico é usar números aleatórios pra determinar a área de um círculo de raio 1 ($A=\\pi R^2 = \\pi$).\n",
    "\n",
    "Vamos produzir vários pares de números aleatórios que usaremos como as coordenadas ($x,y$) de pontos num plano cartesiano. Destes pontos, aqueles que se encontrarem dentro do círculo (que obedecem a equação $x^2+y^2<1$) serão lembrados. No final, depois de produzir muitissimos pares, a razão entre o nº de pontos dentro do círculo e o nº total de pontos gerados será próxima da razão entre a área do círculo ($\\pi$) e a área do quadrado onde geramos todos os pontos ($1$), ou seja, estaremos essencialmete calculando o valor de $\\pi$!"
   ]
  },
  {
   "cell_type": "code",
   "execution_count": 18,
   "metadata": {},
   "outputs": [
    {
     "data": {
      "text/plain": [
       "3.4"
      ]
     },
     "execution_count": 18,
     "metadata": {},
     "output_type": "execute_result"
    }
   ],
   "source": [
    " #Calcula a área do circulo jogando n pontos\n",
    "def Acirc(seed,n):\n",
    "    s = seed\n",
    "    nd = 0\n",
    "    for i in range (n):\n",
    "        xr = rand(s)\n",
    "        #atualizamos a seed\n",
    "        s = rand(s)*10**8\n",
    "        yr = rand(s)\n",
    "        if yr < np.sqrt(1-xr**2):\n",
    "            #se o ponto estiver dentro, lembramos dele\n",
    "            nd = nd + 1\n",
    "        s = rand(s)*10**8\n",
    "    return 4*nd/n\n",
    "\n",
    "# testando com 100 pontos\n",
    "Acirc(9336688, 100)"
   ]
  },
  {
   "cell_type": "markdown",
   "metadata": {},
   "source": [
    "Podemos fazer uma análise de como este método converge ao usarmos números de pontos cada vez maiores."
   ]
  },
  {
   "cell_type": "code",
   "execution_count": 19,
   "metadata": {},
   "outputs": [
    {
     "name": "stdout",
     "output_type": "stream",
     "text": [
      "media, desvp, desvpm\n",
      " 3.0   2.5   1.118033988749895\n"
     ]
    }
   ],
   "source": [
    "# Funções estatísticas básicas\n",
    "def media(x):\n",
    "    n = len(x)\n",
    "    return np.sum(x)/n\n",
    "    \n",
    "def desv_p(x):\n",
    "    n = len(x)\n",
    "    return np.sum((x-media(x))**2)/(n-1)\n",
    "\n",
    "def desv_pm(x):\n",
    "    n = len(x)\n",
    "    return desv_p(x)/np.sqrt(n)\n",
    "    \n",
    "\n",
    "x = np.array([1,2,3,4,5])\n",
    "print('media, desvp, desvpm\\n',media(x),' ',desv_p(x),' ',desv_pm(x))"
   ]
  },
  {
   "cell_type": "code",
   "execution_count": 522,
   "metadata": {},
   "outputs": [
    {
     "name": "stdout",
     "output_type": "stream",
     "text": [
      "N - Im - σ - σm\n",
      "\n",
      " 2 3.2800000000000002 0.0031999999999999702 0.002262741699796931\n",
      "\n",
      " 4 3.29 0.0035999999999999765 0.0017999999999999882\n",
      "\n",
      " 8 3.2800000000000002 0.0018285714285714116 0.0006464976285134089\n",
      "\n",
      " 16 3.3075 0.003566666666666653 0.0008916666666666632\n",
      "\n",
      " 32 3.3137499999999998 0.002901612903225801 0.0005129375400623373\n",
      "\n",
      " 64 3.131875 0.009532936507936515 0.0011916170634920643\n",
      "\n",
      " 128 3.0778124999999994 0.010540059055118126 0.0009316184039975876\n",
      "\n",
      " 256 3.18390625 0.00971017156862744 0.000606885723039215\n",
      "\n",
      " 512 3.1071874999999998 0.007331409001956952 0.00032400556380849114\n",
      "\n",
      " 1024 3.141640625 0.02916016006842619 0.0009112550021383184\n",
      "\n",
      " 2048 3.0936328125 0.025695443026380077 0.0005677944377983105\n",
      "\n",
      " 4096 3.1541796875 0.021235370879120873 0.00033180266998626364\n",
      "\n",
      " 8192 3.1196435546875 0.018375748892648945 0.0002030252601777072\n",
      "\n",
      " 16384 3.1248706054687503 0.02647877224461904 0.00020686540816108626\n",
      "\n",
      " 32768 3.121298828125 0.02790004339350566 0.00015412742092927177\n",
      "\n",
      " 65536 3.1628491210937506 0.026488575755083156 0.00010347099904329358\n",
      "\n",
      " 131072 3.150558776855468 0.02565904490835582 7.087376817761154e-05\n"
     ]
    }
   ],
   "source": [
    "# tabela para erro em precisão dupla\n",
    "seed = 9336688\n",
    "N = 2\n",
    "\n",
    "print('N - Im - \\u03C3 - \\u03C3m')\n",
    "while N <= 131072:\n",
    "    I = np.zeros(N)\n",
    "    for i in range (N):\n",
    "        I[i] = Acirc(seed, 100)\n",
    "        seed = rand(seed)*10**8\n",
    "    print('\\n', N, '-', media(I),'-',desv_p(I),'-',desv_pm(I))\n",
    "    N = N*2"
   ]
  }
 ],
 "metadata": {
  "kernelspec": {
   "display_name": "Python 3",
   "language": "python",
   "name": "python3"
  },
  "language_info": {
   "codemirror_mode": {
    "name": "ipython",
    "version": 3
   },
   "file_extension": ".py",
   "mimetype": "text/x-python",
   "name": "python",
   "nbconvert_exporter": "python",
   "pygments_lexer": "ipython3",
   "version": "3.7.6"
  }
 },
 "nbformat": 4,
 "nbformat_minor": 2
}
