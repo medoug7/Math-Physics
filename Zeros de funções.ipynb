{
 "cells": [
  {
   "cell_type": "code",
   "execution_count": 1,
   "metadata": {},
   "outputs": [],
   "source": [
    "import numpy as np\n",
    "from matplotlib import pyplot as pl"
   ]
  },
  {
   "cell_type": "markdown",
   "metadata": {},
   "source": [
    "# Zeros de Funções\n",
    "\n",
    "Quando queremos resolver uma equação do tipo $y(x)=0$, sendo $y$ uma função contínua qualquer, temos três opções de algorítmos para implementar:"
   ]
  },
  {
   "cell_type": "markdown",
   "metadata": {},
   "source": [
    "# Resolver $x³-cos(x²)=0$"
   ]
  },
  {
   "cell_type": "code",
   "execution_count": 2,
   "metadata": {},
   "outputs": [
    {
     "data": {
      "text/plain": [
       "<matplotlib.lines.Line2D at 0x26f0b792648>"
      ]
     },
     "execution_count": 2,
     "metadata": {},
     "output_type": "execute_result"
    },
    {
     "data": {
      "image/png": "[encoded data removed]",
      "text/plain": [
       "<Figure size 432x288 with 1 Axes>"
      ]
     },
     "metadata": {
      "needs_background": "light"
     },
     "output_type": "display_data"
    }
   ],
   "source": [
    "x=np.arange(-3, 3, 0.05)\n",
    "\n",
    "# Aqui definimos a função y(x) que queremos resolver\n",
    "def y(x):\n",
    "    return x**3-np.cos(x**2)\n",
    "\n",
    "#print(x)\n",
    "#print(y(x))\n",
    "\n",
    "# plotamos y(x) para termos uma ideia geométrica de quando y(x) = 0\n",
    "pl.plot(x,y(x))\n",
    "pl.axhline(y=0,ls=':',c='k')\n",
    "\n",
    "# dá pra ver pelo plot que o zero ocorre perto de x = 0.9"
   ]
  },
  {
   "cell_type": "markdown",
   "metadata": {},
   "source": [
    "### 1 - Método da Bissecção\n",
    "\n",
    "Chutamos dois valores ($x_1$ e $x_2$), e checamos se a função $y$ tem sinais diferentes em cada ponto. Se o sinal for diferente provavelmente existe algum ponto do intervalo selecionado em que a função é zero, então tomamos a média desses pontos ($x_m$) e repetimos o mesmo procedimento comparando $x_m$ com $x_1$ e $x_2$ e atualizando os seus valores. Dada um bom chute inicial o algorítmo convergirá na resposta linearmente, e o critério de parada é quando a distância entre $x_1$ e $x_2$ estiver dentro da tolerância escolhida $e$."
   ]
  },
  {
   "cell_type": "code",
   "execution_count": 3,
   "metadata": {},
   "outputs": [
    {
     "name": "stdout",
     "output_type": "stream",
     "text": [
      "n : x1 - x2 - xm\n",
      "0 : 0 - 1 - 0.5\n",
      "1 : 0.5 - 1 - 0.75\n",
      "2 : 0.75 - 1 - 0.875\n",
      "3 : 0.875 - 1 - 0.9375\n",
      "4 : 0.875 - 0.9375 - 0.90625\n",
      "5 : 0.875 - 0.90625 - 0.890625\n",
      "6 : 0.875 - 0.890625 - 0.8828125\n",
      "7 : 0.8828125 - 0.890625 - 0.88671875\n",
      "8 : 0.88671875 - 0.890625 - 0.888671875\n",
      "9 : 0.888671875 - 0.890625 - 0.8896484375\n",
      "10 : 0.888671875 - 0.8896484375 - 0.88916015625\n",
      "11 : 0.88916015625 - 0.8896484375 - 0.889404296875\n",
      "12 : 0.88916015625 - 0.889404296875 - 0.8892822265625\n",
      "13 : 0.88916015625 - 0.8892822265625 - 0.88922119140625\n",
      "14 : 0.88922119140625 - 0.8892822265625 - 0.889251708984375\n",
      "15 : 0.889251708984375 - 0.8892822265625 - 0.8892669677734375\n",
      "16 : 0.8892669677734375 - 0.8892822265625 - 0.8892745971679688\n"
     ]
    },
    {
     "data": {
      "text/plain": [
       "0.8892745971679688"
      ]
     },
     "execution_count": 3,
     "metadata": {},
     "output_type": "execute_result"
    }
   ],
   "source": [
    "# Função para o método da Bissecção\n",
    "def Mbiss(x1,x2,y,e):\n",
    "    n = 0\n",
    "    # checa se os sinais de y(x1) e y(x2) são iguais\n",
    "    # (se sim, provavelmente não há uma raiz em [x1,x2])\n",
    "    if np.sign(y(x1)) == np.sign(y(x2)):\n",
    "        return print('Não há raiz nesse intervalo!')\n",
    "    else:\n",
    "        print('n :','x1 -','x2 -','xm')\n",
    "        # enquanto a diferença de x1 e x2 for maior que a toleância\n",
    "        # continuamos o método da bisseção\n",
    "        while np.abs(x1-x2) >= e:\n",
    "            # calcula x médio entre x1 e x2\n",
    "            xm = (x1+x2)/2\n",
    "            print(n,':',x1,'-',x2,'-',xm)\n",
    "            # se y(x1) e y(x2) tiverem o mesmo sinal, a raiz deve se \n",
    "            # encontrar entre xm e x2\n",
    "            if np.sign(y(x1)) == np.sign(y(xm)):\n",
    "                # redefinimos x1\n",
    "                x1 = xm\n",
    "            else:\n",
    "                # senão redefinimos x2\n",
    "                x2 = xm\n",
    "            n = n+1\n",
    "    return x1\n",
    "        \n",
    "\n",
    "#definimos os extremos do intervalo em que vamos buscar uma raiz\n",
    "x1 = 0\n",
    "x2 = 1\n",
    "#tolerância do erro\n",
    "e = 10**(-5)\n",
    "\n",
    "#testando\n",
    "Mbiss(x1,x2,y,e)"
   ]
  },
  {
   "cell_type": "markdown",
   "metadata": {},
   "source": [
    "### 2 - Método de Newton-Raphson\n",
    "\n",
    "Neste método precisamos fornecer apenas um chute $x_0$, mas também precisamos conhecer a primeira derivada da função ($y'$). Utilizamos a derivada para estimar onde a função $y$ cruza o eixo $x$ com a seguinte lei de atualização:\n",
    "\n",
    "$x_{n+1} = x_n - \\frac{y}{y'}$\n",
    "\n",
    "Note que quando $y(x_n) = 0$ teremos $x_{n+1} = x_n$, o que significa que encontramos o ponto em que $y = 0$. Este método garante convergência quadrática se a escolha original dos parametros satisfazer: $|e\\frac{y\"}{y'}| < 2$. E vai parar quando o erro relativo estiver dentro da tolerância."
   ]
  },
  {
   "cell_type": "code",
   "execution_count": 4,
   "metadata": {},
   "outputs": [
    {
     "name": "stdout",
     "output_type": "stream",
     "text": [
      "n : x - y(x) - e\n",
      "0 : 0.5 - -0.8439124217106447 - -1.6922179100660468\n",
      "1 : 1.3461089550330234 - 2.6780426471506815 - 0.24712975221947808\n",
      "2 : 1.0134453825152918 - 0.5235537163028025 - 0.10727343904411851\n",
      "3 : 0.9047296110494942 - 0.057262342646478115 - 0.01675826372365031\n",
      "4 : 0.8895679136289313 - 0.0010435711820104832 - 0.00032233269688374563\n",
      "5 : 0.88928117680427 - 3.693225596457239e-07 - 1.1419198440640662e-07\n"
     ]
    },
    {
     "data": {
      "text/plain": [
       "0.88928117680427"
      ]
     },
     "execution_count": 4,
     "metadata": {},
     "output_type": "execute_result"
    }
   ],
   "source": [
    "# Método de Newton-Raphson\n",
    "def MNR(x0,y,dy,e):\n",
    "    n = 0\n",
    "    x = x0\n",
    "    print('n :','x -','y(x) -','e')\n",
    "    # enquanto y(x) não explodir\n",
    "    while np.abs(y(x)*e) < 1:\n",
    "        print(n,':',x,'-',y(x),'-',y(x)/dy(x)/x)\n",
    "        # quando o erro relativo for menor que a tolerância \n",
    "        # nós encontramos uma raiz\n",
    "        if np.abs((y(x)/dy(x))/x) < e:\n",
    "            return x\n",
    "        # senão atualizamos x e continuamos\n",
    "        else:\n",
    "            x = x - y(x)/dy(x)\n",
    "            n = n + 1\n",
    "    # se y(x) \"explodir\", é porque o método não achou uma raiz\n",
    "    return print('Não converge!')\n",
    "\n",
    "\n",
    "# Aqui colocamos a derivada de y(x) calculada analiticamente\n",
    "def dy(x):\n",
    "    return 3*x**2+2*x*np.sin(x**2)\n",
    "            \n",
    "\n",
    "#chute inial e tolerância\n",
    "x0 = 0.5\n",
    "e = 10**(-5)\n",
    "\n",
    "#teste\n",
    "MNR(x0,y,dy,e)"
   ]
  },
  {
   "cell_type": "markdown",
   "metadata": {},
   "source": [
    "### 3 - Método das secantes\n",
    "\n",
    "Num problema onde não queremos perder tempo calculando a derivada, podemos mandar o computador estimar ela pra nós indicando dois pontos $x_n$ e $x_{n-1}$ e usando a aproximação $y'(x) = \\frac{y(x_n) - y(x_{n-1})}{x_n - x_{n-1}}$, desta forma o próximo ponto será determinado com a regra:\n",
    "\n",
    "$x_{n+1} = x_n - (x_n - x_{n-1})\\frac{y(x_n)}{y(x_n) - y(x_{n-1})}$\n",
    "\n",
    "Este método garante convergência de ordem $\\phi$ (1.618...) se o chute inicial for bom."
   ]
  },
  {
   "cell_type": "code",
   "execution_count": 5,
   "metadata": {},
   "outputs": [
    {
     "name": "stdout",
     "output_type": "stream",
     "text": [
      "n : x - y(x)\n",
      "0 : 0.2 - -0.9912001066609779\n",
      "1 : 1 - 0.45969769413186023\n",
      "2 : 0.7465306273780772 - -0.4326345302313562\n",
      "3 : 0.8694216313767024 - -0.07046805136656342\n",
      "4 : 0.8933329817849677 - 0.014810206365731049\n",
      "5 : 0.8891803168097825 - -0.0003664025011979044\n",
      "6 : 0.889280572858211 - -1.8271659952828756e-06\n"
     ]
    },
    {
     "data": {
      "text/plain": [
       "0.889280572858211"
      ]
     },
     "execution_count": 5,
     "metadata": {},
     "output_type": "execute_result"
    }
   ],
   "source": [
    "# Método das secantes\n",
    "def Msec(x0,x1,y,e):\n",
    "    n = 0\n",
    "    # admitindo os valores iniciais\n",
    "    a = x0\n",
    "    b = x1\n",
    "    print('n :','x -','y(x)')\n",
    "    # enquanto y(x) não explodir\n",
    "    while np.abs(y(a)*e) < 1:\n",
    "        print(n,':',a,'-',y(a))\n",
    "        # parar se y(a) está dentro da tolerância\n",
    "        if np.abs(y(a)) < e:\n",
    "            return a\n",
    "        else:\n",
    "            # atualizar a\n",
    "            a = a - (a-b)*y(a)/(y(a)-y(b))\n",
    "            n = n + 1\n",
    "        print(n,':',b,'-',y(b))\n",
    "        # parar se y(b) está dentro da tolerância\n",
    "        if np.abs(y(b)) < e:\n",
    "            return b\n",
    "        else:\n",
    "            # atualizar b\n",
    "            b = b - (b-a)*y(b)/(y(b)-y(a))\n",
    "            n = n + 1\n",
    "    # se y(x) explodir, não achamos uma raiz\n",
    "    return print('Não converge!')\n",
    "\n",
    "\n",
    "#chutes iniais e tolerância\n",
    "x0 = 0.2\n",
    "x1 = 1\n",
    "e = 10**(-5)\n",
    "\n",
    "#teste\n",
    "Msec(x0,x1,y,e)"
   ]
  }
 ],
 "metadata": {
  "kernelspec": {
   "display_name": "Python 3",
   "language": "python",
   "name": "python3"
  },
  "language_info": {
   "codemirror_mode": {
    "name": "ipython",
    "version": 3
   },
   "file_extension": ".py",
   "mimetype": "text/x-python",
   "name": "python",
   "nbconvert_exporter": "python",
   "pygments_lexer": "ipython3",
   "version": "3.7.6"
  }
 },
 "nbformat": 4,
 "nbformat_minor": 2
}
